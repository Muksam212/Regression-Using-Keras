{
 "cells": [
  {
   "cell_type": "code",
   "execution_count": 54,
   "id": "1209bf64",
   "metadata": {},
   "outputs": [],
   "source": [
    "from flask import Flask, request, jsonify\n",
    "from tensorflow.keras.models import load_model\n",
    "import os\n",
    "import numpy as np\n",
    "import uuid #create some random id : roll number 34: steve"
   ]
  },
  {
   "cell_type": "code",
   "execution_count": 55,
   "id": "5184d9c9",
   "metadata": {},
   "outputs": [],
   "source": [
    "app = Flask(__name__) #creation of object"
   ]
  },
  {
   "cell_type": "code",
   "execution_count": 56,
   "id": "902ab539",
   "metadata": {},
   "outputs": [],
   "source": [
    "Expected = {\n",
    "\"cylinder\": {\"min\":3,\"max\": 8},\n",
    "\"displacement\": {\"min\":68.0,\"max\": 455.0},\n",
    "\"horsepower\": {\"min\":46.0,\"max\": 230.0},\n",
    "\"weight\": {\"min\":1613,\"max\": 5140},\n",
    "\"acceleration\": {\"min\":8.0,\"max\": 24.8},\n",
    "\"year\": {\"min\":70,\"max\": 82},\n",
    "\"origin\": {\"min\":1,\"max\": 3}\n",
    "}\n"
   ]
  },
  {
   "cell_type": "code",
   "execution_count": 57,
   "id": "4280fd5e",
   "metadata": {},
   "outputs": [],
   "source": [
    "model = load_model(os.path.join(os.getcwd(),\"mpg_model.keras\"))"
   ]
  },
  {
   "cell_type": "code",
   "execution_count": 58,
   "id": "7b5e5cb6",
   "metadata": {},
   "outputs": [
    {
     "name": "stdout",
     "output_type": "stream",
     "text": [
      "Model: \"sequential_5\"\n",
      "_________________________________________________________________\n",
      "Layer (type)                 Output Shape              Param #   \n",
      "=================================================================\n",
      "dense_15 (Dense)             (None, 25)                200       \n",
      "_________________________________________________________________\n",
      "dense_16 (Dense)             (None, 10)                260       \n",
      "_________________________________________________________________\n",
      "dense_17 (Dense)             (None, 1)                 11        \n",
      "=================================================================\n",
      "Total params: 471\n",
      "Trainable params: 471\n",
      "Non-trainable params: 0\n",
      "_________________________________________________________________\n"
     ]
    }
   ],
   "source": [
    "model.summary()"
   ]
  },
  {
   "cell_type": "code",
   "execution_count": 59,
   "id": "ce8c0a4e",
   "metadata": {},
   "outputs": [],
   "source": [
    "@app.route(\"/api\", methods=[\"POST\"])\n",
    "def mpg_prediction():\n",
    "    content = request.json\n",
    "    errors = [] #error message\n",
    "    \n",
    "    for name in content:\n",
    "        if name in Expected:\n",
    "            expected_min = Expected[name]['min']\n",
    "            expected_max = Expected[name]['max']\n",
    "            \n",
    "            value = content[name] #input\n",
    "            if value < expected_min or value > expected_max:\n",
    "                errors.append(f\"Out of bounds error\")\n",
    "        else:\n",
    "            errors.append(f\"Unexpected fields\")\n",
    "            \n",
    "    for name in Expected:\n",
    "        if name not in content:\n",
    "            errors.append(f\"Missing Values\")\n",
    "    \n",
    "    x = np.zeros((1,7))\n",
    "    \n",
    "    if len(errors) <= 0:\n",
    "        for i, name in enumerate(content):\n",
    "            x[0, i] = content[name]\n",
    "        \n",
    "            predictions = model.predict(x)\n",
    "            mpg = float(predictions[0])\n",
    "            response = {\"id\": str(uuid.uuid4()), \"mpg\":mpg}\n",
    "    else:\n",
    "        response = {\"id\": str(uuid.uuid4()), \"error\":errors}\n",
    "    \n",
    "    return response"
   ]
  },
  {
   "cell_type": "code",
   "execution_count": null,
   "id": "db0966c7",
   "metadata": {},
   "outputs": [
    {
     "name": "stdout",
     "output_type": "stream",
     "text": [
      " * Serving Flask app '__main__' (lazy loading)\n",
      " * Environment: production\n",
      "\u001b[31m   WARNING: This is a development server. Do not use it in a production deployment.\u001b[0m\n",
      "\u001b[2m   Use a production WSGI server instead.\u001b[0m\n",
      " * Debug mode: on\n"
     ]
    },
    {
     "name": "stderr",
     "output_type": "stream",
     "text": [
      " * Running on http://127.0.0.1:5000/ (Press CTRL+C to quit)\n",
      "127.0.0.1 - - [01/May/2023 10:59:11] \"POST /api HTTP/1.1\" 200 -\n",
      "127.0.0.1 - - [01/May/2023 10:59:30] \"POST /api HTTP/1.1\" 200 -\n",
      "127.0.0.1 - - [01/May/2023 10:59:55] \"POST /api HTTP/1.1\" 200 -\n",
      "127.0.0.1 - - [01/May/2023 11:00:01] \"POST /api HTTP/1.1\" 200 -\n",
      "127.0.0.1 - - [01/May/2023 11:00:08] \"POST /api HTTP/1.1\" 200 -\n",
      "127.0.0.1 - - [01/May/2023 11:00:13] \"POST /api HTTP/1.1\" 200 -\n",
      "127.0.0.1 - - [01/May/2023 11:01:48] \"GET /api HTTP/1.1\" 405 -\n",
      "127.0.0.1 - - [01/May/2023 11:01:55] \"POST /api HTTP/1.1\" 500 -\n",
      "Traceback (most recent call last):\n",
      "  File \"C:\\Users\\Dell\\miniconda3\\Lib\\site-packages\\flask\\app.py\", line 2091, in __call__\n",
      "    return self.wsgi_app(environ, start_response)\n",
      "  File \"C:\\Users\\Dell\\miniconda3\\Lib\\site-packages\\flask\\app.py\", line 2076, in wsgi_app\n",
      "    response = self.handle_exception(e)\n",
      "  File \"C:\\Users\\Dell\\miniconda3\\Lib\\site-packages\\flask\\app.py\", line 2073, in wsgi_app\n",
      "    response = self.full_dispatch_request()\n",
      "  File \"C:\\Users\\Dell\\miniconda3\\Lib\\site-packages\\flask\\app.py\", line 1518, in full_dispatch_request\n",
      "    rv = self.handle_user_exception(e)\n",
      "  File \"C:\\Users\\Dell\\miniconda3\\Lib\\site-packages\\flask\\app.py\", line 1516, in full_dispatch_request\n",
      "    rv = self.dispatch_request()\n",
      "  File \"C:\\Users\\Dell\\miniconda3\\Lib\\site-packages\\flask\\app.py\", line 1502, in dispatch_request\n",
      "    return self.ensure_sync(self.view_functions[rule.endpoint])(**req.view_args)\n",
      "  File \"C:\\Users\\Dell\\AppData\\Local\\Temp/ipykernel_1948/4112796369.py\", line 6, in mpg_prediction\n",
      "    \n",
      "TypeError: 'NoneType' object is not iterable\n",
      "127.0.0.1 - - [01/May/2023 11:02:46] \"POST /api HTTP/1.1\" 400 -\n",
      "127.0.0.1 - - [01/May/2023 11:03:18] \"POST /api HTTP/1.1\" 200 -\n",
      "127.0.0.1 - - [01/May/2023 11:03:29] \"POST /api HTTP/1.1\" 200 -\n"
     ]
    }
   ],
   "source": [
    "if __name__ == \"__main__\":\n",
    "    app.run(debug = True, use_reloader = False)"
   ]
  },
  {
   "cell_type": "code",
   "execution_count": null,
   "id": "311801fa",
   "metadata": {},
   "outputs": [],
   "source": []
  }
 ],
 "metadata": {
  "kernelspec": {
   "display_name": "Python 3 (ipykernel)",
   "language": "python",
   "name": "python3"
  },
  "language_info": {
   "codemirror_mode": {
    "name": "ipython",
    "version": 3
   },
   "file_extension": ".py",
   "mimetype": "text/x-python",
   "name": "python",
   "nbconvert_exporter": "python",
   "pygments_lexer": "ipython3",
   "version": "3.9.5"
  }
 },
 "nbformat": 4,
 "nbformat_minor": 5
}
