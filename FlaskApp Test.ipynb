{
 "cells": [
  {
   "cell_type": "code",
   "execution_count": 31,
   "id": "6fe1937f",
   "metadata": {},
   "outputs": [],
   "source": [
    "import requests\n",
    "input_json = {\n",
    "    \"cylinder\":8,\n",
    "    \"displacement\":300,\n",
    "    \"horsepower\":78,\n",
    "    \"weight\":3500,\n",
    "    \"acceleration\":20,\n",
    "    \"year\":76,\n",
    "    \"origin\":1\n",
    "}"
   ]
  },
  {
   "cell_type": "code",
   "execution_count": 32,
   "id": "2f7d3bee",
   "metadata": {},
   "outputs": [],
   "source": [
    "r = requests.post(\"http://127.0.0.1:5000/api\", json=input_json)"
   ]
  },
  {
   "cell_type": "code",
   "execution_count": 33,
   "id": "644fc007",
   "metadata": {},
   "outputs": [
    {
     "name": "stdout",
     "output_type": "stream",
     "text": [
      "Works: {\n",
      "  \"id\": \"5d3a4c4f-74ec-42e6-9e86-eda1b5f5230f\", \n",
      "  \"mpg\": 25.94257164001465\n",
      "}\n",
      "\n"
     ]
    }
   ],
   "source": [
    "if r.status_code == 200:\n",
    "    print(f\"Works: {r.text}\")\n",
    "else:\n",
    "    print(f\"Failed: {r.text}\")"
   ]
  },
  {
   "cell_type": "code",
   "execution_count": null,
   "id": "1b0f222d",
   "metadata": {},
   "outputs": [],
   "source": []
  }
 ],
 "metadata": {
  "kernelspec": {
   "display_name": "Python 3 (ipykernel)",
   "language": "python",
   "name": "python3"
  },
  "language_info": {
   "codemirror_mode": {
    "name": "ipython",
    "version": 3
   },
   "file_extension": ".py",
   "mimetype": "text/x-python",
   "name": "python",
   "nbconvert_exporter": "python",
   "pygments_lexer": "ipython3",
   "version": "3.9.5"
  }
 },
 "nbformat": 4,
 "nbformat_minor": 5
}
